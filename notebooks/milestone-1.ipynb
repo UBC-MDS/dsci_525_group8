{
 "cells": [
  {
   "cell_type": "markdown",
   "id": "7b139ae1-4be4-42fc-9f86-9ddd1f3aa75f",
   "metadata": {},
   "source": [
    "# Milestone 1 Notebook"
   ]
  },
  {
   "cell_type": "markdown",
   "id": "d8871a39-fa67-4e97-920d-949cfb505460",
   "metadata": {},
   "source": [
    "*Note: Steps 1 (team work contract) and 2 (creating repository) for this milestone are not included in this notebook.*"
   ]
  },
  {
   "cell_type": "markdown",
   "id": "f096a6fc-77f6-427a-978d-48d8da4efba2",
   "metadata": {},
   "source": [
    "## Imports"
   ]
  },
  {
   "cell_type": "code",
   "execution_count": 12,
   "id": "1fd4d26d-1b3b-4da3-9067-13a23e1ab6dc",
   "metadata": {},
   "outputs": [],
   "source": [
    "import re\n",
    "import os\n",
    "import glob\n",
    "import zipfile\n",
    "import requests\n",
    "from urllib.request import urlretrieve\n",
    "import json\n",
    "import pandas as pd"
   ]
  },
  {
   "cell_type": "markdown",
   "id": "c908e1d9-c9fc-4ca6-94d9-52eb5938dcc9",
   "metadata": {},
   "source": [
    "## 3. Downloading the data"
   ]
  },
  {
   "cell_type": "markdown",
   "id": "bcab16ae-978a-4c07-bb20-625df5f52c5a",
   "metadata": {},
   "source": [
    "### Download using figshare's API"
   ]
  },
  {
   "cell_type": "code",
   "execution_count": 13,
   "id": "234f616b-249c-4d5b-ac58-0b0da7000842",
   "metadata": {},
   "outputs": [],
   "source": [
    "# figshare article metadata\n",
    "article_id = 14096681  \n",
    "url = f\"https://api.figshare.com/v2/articles/{article_id}\"\n",
    "headers = {\"Content-Type\": \"application/json\"}\n",
    "\n",
    "# directories for output\n",
    "output_directory = \"figsharerain/\"\n",
    "output_directory_files = \"figsharerain/data/\"\n",
    "\n",
    "# get the files from figshare\n",
    "response = requests.request(\"GET\", url, headers=headers)\n",
    "data = json.loads(response.text)\n",
    "files = data[\"files\"]\n",
    "\n",
    "files"
   ]
  },
  {
   "cell_type": "code",
   "execution_count": 4,
   "id": "bc4ed9cf-5626-4c11-ba19-3eb0e48217e0",
   "metadata": {},
   "outputs": [],
   "source": [
    "%%time\n",
    "\n",
    "files_to_dl = ['data.zip']\n",
    "\n",
    "# download files, this takes some time\n",
    "for file in files:\n",
    "    if file[\"name\"] in files_to_dl:\n",
    "        os.makedirs(output_directory, exist_ok=True)\n",
    "        urlretrieve(file[\"download_url\"], output_directory + file[\"name\"])"
   ]
  },
  {
   "cell_type": "markdown",
   "id": "0401436e-b54d-47ba-93a4-ac0f6653cb34",
   "metadata": {},
   "source": [
    "### Extract and view files"
   ]
  },
  {
   "cell_type": "code",
   "execution_count": 15,
   "id": "b5925d1f-7fab-414e-8df0-5ce2a9274657",
   "metadata": {},
   "outputs": [
    {
     "name": "stdout",
     "output_type": "stream",
     "text": [
      "CPU times: user 16.2 s, sys: 2.55 s, total: 18.8 s\n",
      "Wall time: 19.1 s\n"
     ]
    }
   ],
   "source": [
    "%%time\n",
    "\n",
    "# extract files\n",
    "os.makedirs(output_directory_files, exist_ok=True)\n",
    "with zipfile.ZipFile(os.path.join(output_directory, \"data.zip\"), 'r') as f:\n",
    "    f.extractall(output_directory_files)"
   ]
  },
  {
   "cell_type": "markdown",
   "id": "d257e914-d039-4390-9bfd-ab71353c9652",
   "metadata": {},
   "source": [
    "# 4. Combine data CSVs with Pandas"
   ]
  },
  {
   "cell_type": "markdown",
   "id": "d45e9ba6-f989-4695-bdb9-561f042436a4",
   "metadata": {},
   "source": [
    "### Combine CSVs and add \"model\" column"
   ]
  },
  {
   "cell_type": "code",
   "execution_count": null,
   "id": "06403eba-7d95-499d-a8e2-47e3033bc0e0",
   "metadata": {},
   "outputs": [],
   "source": [
    "%%time\n",
    "# files to combine\n",
    "files = glob.glob('figsharerain/data/*.csv')\n",
    "files.remove('figsharerain/data/observed_daily_rainfall_SYD.csv')\n",
    "\n",
    "# combine with pandas\n",
    "df = pd.concat(\n",
    "    (\n",
    "        pd.read_csv(file, index_col=0)\n",
    "        .assign(model=re.findall(r'^[^_]*', file)[0]) for file in files) # model column\n",
    "    )\n",
    "\n",
    "df[\"model\"] = df[\"model\"].apply(lambda x: x.split(\"/\")[-1])\n",
    "\n",
    "# save combined file\n",
    "df.to_csv(\"figsharerain/data/combined_data.csv\")"
   ]
  },
  {
   "cell_type": "code",
   "execution_count": null,
   "id": "7e7ea4ee-46f4-4512-b208-840abe02dc52",
   "metadata": {},
   "outputs": [],
   "source": [
    "df.head()"
   ]
  },
  {
   "cell_type": "code",
   "execution_count": null,
   "id": "af7755da-cdc7-4f08-9d27-82e9db191a41",
   "metadata": {},
   "outputs": [],
   "source": [
    "print(df.shape)"
   ]
  },
  {
   "cell_type": "markdown",
   "id": "a7ac9348-6c4b-4454-b578-d008a88cdce0",
   "metadata": {},
   "source": [
    "| Team Member | Operating System | RAM | Processor | Is SSD | Time taken |\n",
    "|:-----------:|:----------------:|:---:|:---------:|:------:|:----------:|\n",
    "| Nico        | Mac              |32gb | Intel i9  |  Yes   |            |\n",
    "| Kristen    |                  |     |           |        |            |\n",
    "| Jennifer    |                  |     |           |        |            |\n",
    "| Morgan    |                  |     |           |        |            |"
   ]
  },
  {
   "cell_type": "markdown",
   "id": "0d906838-22d5-4a8b-ae98-2a088458b10a",
   "metadata": {},
   "source": [
    "*Summary of observations of runtimes*\n",
    "\n",
    "TO ADD AT END"
   ]
  },
  {
   "cell_type": "markdown",
   "id": "6482d400-8aa1-4d0e-846c-d89e0591c83b",
   "metadata": {
    "tags": []
   },
   "source": [
    "# 5. Load the combined CSV and perform EDA"
   ]
  },
  {
   "cell_type": "code",
   "execution_count": null,
   "id": "df9135d1-66ed-4e42-94dc-00b18d1fdaf5",
   "metadata": {},
   "outputs": [],
   "source": []
  },
  {
   "cell_type": "markdown",
   "id": "e1c7f2d1-d8cb-4ea7-a0be-afd0b0724b57",
   "metadata": {},
   "source": [
    "| Team Member | Operating System | RAM | Processor | Is SSD | Time taken |\n",
    "|:-----------:|:----------------:|:---:|:---------:|:------:|:----------:|\n",
    "| Nico        | Mac              |32gb | Intel i9  |  Yes   |            |\n",
    "| Kristen    |                  |     |           |        |            |\n",
    "| Jennifer    |                  |     |           |        |            |\n",
    "| Morgan    |                  |     |           |        |            |"
   ]
  },
  {
   "cell_type": "markdown",
   "id": "cfd8ad88-6aa7-42c6-83ed-f272ce7a27f4",
   "metadata": {},
   "source": [
    "*Summary of observations of runtimes*\n",
    "\n",
    "TO ADD AT END"
   ]
  },
  {
   "cell_type": "markdown",
   "id": "18902408-1ebe-4119-abe7-735aa0c2d752",
   "metadata": {},
   "source": [
    "# 6. Perform EDA in R"
   ]
  },
  {
   "cell_type": "code",
   "execution_count": null,
   "id": "1080a9c8-cc0f-4836-be36-17c49ce292da",
   "metadata": {},
   "outputs": [],
   "source": []
  }
 ],
 "metadata": {
  "kernelspec": {
   "display_name": "Python [conda env:525_2022]",
   "language": "python",
   "name": "conda-env-525_2022-py"
  },
  "language_info": {
   "codemirror_mode": {
    "name": "ipython",
    "version": 3
   },
   "file_extension": ".py",
   "mimetype": "text/x-python",
   "name": "python",
   "nbconvert_exporter": "python",
   "pygments_lexer": "ipython3",
   "version": "3.8.6"
  }
 },
 "nbformat": 4,
 "nbformat_minor": 5
}
