{
 "cells": [
  {
   "cell_type": "markdown",
   "id": "7b139ae1-4be4-42fc-9f86-9ddd1f3aa75f",
   "metadata": {},
   "source": [
    "# Milestone 1 Notebook"
   ]
  },
  {
   "cell_type": "markdown",
   "id": "d8871a39-fa67-4e97-920d-949cfb505460",
   "metadata": {},
   "source": [
    "*Note: Steps 1 (team work contract) and 2 (creating repository) for this milestone are not included in this notebook.*"
   ]
  },
  {
   "cell_type": "markdown",
   "id": "f096a6fc-77f6-427a-978d-48d8da4efba2",
   "metadata": {},
   "source": [
    "## Imports"
   ]
  },
  {
   "cell_type": "code",
   "execution_count": 1,
   "id": "1fd4d26d-1b3b-4da3-9067-13a23e1ab6dc",
   "metadata": {},
   "outputs": [],
   "source": [
    "import re\n",
    "import os\n",
    "import glob\n",
    "import zipfile\n",
    "import requests\n",
    "from urllib.request import urlretrieve\n",
    "import json\n",
    "import pandas as pd"
   ]
  },
  {
   "cell_type": "markdown",
   "id": "c908e1d9-c9fc-4ca6-94d9-52eb5938dcc9",
   "metadata": {},
   "source": [
    "## 3. Downloading the data"
   ]
  },
  {
   "cell_type": "markdown",
   "id": "bcab16ae-978a-4c07-bb20-625df5f52c5a",
   "metadata": {},
   "source": [
    "### Download using figshare's API"
   ]
  },
  {
   "cell_type": "code",
   "execution_count": null,
   "id": "234f616b-249c-4d5b-ac58-0b0da7000842",
   "metadata": {},
   "outputs": [],
   "source": [
    "# figshare article metadata\n",
    "article_id = 14096681  \n",
    "url = f\"https://api.figshare.com/v2/articles/{article_id}\"\n",
    "headers = {\"Content-Type\": \"application/json\"}\n",
    "\n",
    "# directories for output\n",
    "output_directory = \"figsharerain/\"\n",
    "output_directory_files = \"figsharerain/data/\"\n",
    "\n",
    "# get the files from figshare\n",
    "response = requests.request(\"GET\", url, headers=headers)\n",
    "data = json.loads(response.text)\n",
    "files = data[\"files\"]\n",
    "\n",
    "files"
   ]
  },
  {
   "cell_type": "code",
   "execution_count": null,
   "id": "bc4ed9cf-5626-4c11-ba19-3eb0e48217e0",
   "metadata": {},
   "outputs": [],
   "source": [
    "%%time\n",
    "\n",
    "files_to_dl = ['data.zip']\n",
    "\n",
    "# download files, this takes some time\n",
    "for file in files:\n",
    "    if file[\"name\"] in files_to_dl:\n",
    "        os.makedirs(output_directory, exist_ok=True)\n",
    "        urlretrieve(file[\"download_url\"], output_directory + file[\"name\"])"
   ]
  },
  {
   "cell_type": "markdown",
   "id": "0401436e-b54d-47ba-93a4-ac0f6653cb34",
   "metadata": {},
   "source": [
    "### Extract and view files"
   ]
  },
  {
   "cell_type": "code",
   "execution_count": null,
   "id": "b5925d1f-7fab-414e-8df0-5ce2a9274657",
   "metadata": {},
   "outputs": [],
   "source": [
    "%%time\n",
    "\n",
    "# extract files\n",
    "os.makedirs(output_directory_files, exist_ok=True)\n",
    "with zipfile.ZipFile(os.path.join(output_directory, \"data.zip\"), 'r') as f:\n",
    "    f.extractall(output_directory_files)"
   ]
  },
  {
   "cell_type": "markdown",
   "id": "d257e914-d039-4390-9bfd-ab71353c9652",
   "metadata": {},
   "source": [
    "# 4. Combine data CSVs with Pandas"
   ]
  },
  {
   "cell_type": "markdown",
   "id": "d45e9ba6-f989-4695-bdb9-561f042436a4",
   "metadata": {},
   "source": [
    "### Combine CSVs and add \"model\" column"
   ]
  },
  {
   "cell_type": "code",
   "execution_count": null,
   "id": "06403eba-7d95-499d-a8e2-47e3033bc0e0",
   "metadata": {},
   "outputs": [],
   "source": [
    "%%time\n",
    "# files to combine\n",
    "files = glob.glob('figsharerain/data/*.csv')\n",
    "files.remove('figsharerain/data/observed_daily_rainfall_SYD.csv')\n",
    "\n",
    "# combine with pandas\n",
    "df = pd.concat(\n",
    "    (\n",
    "        pd.read_csv(file, index_col=0)\n",
    "        .assign(model=re.findall(r'^[^_]*', file)[0]) for file in files) # model column\n",
    "    )\n",
    "\n",
    "df[\"model\"] = df[\"model\"].apply(lambda x: x.split(\"/\")[-1])\n",
    "\n",
    "# save combined file\n",
    "df.to_csv(\"figsharerain/data/combined_data.csv\")"
   ]
  },
  {
   "cell_type": "code",
   "execution_count": null,
   "id": "7e7ea4ee-46f4-4512-b208-840abe02dc52",
   "metadata": {},
   "outputs": [],
   "source": [
    "df.head()"
   ]
  },
  {
   "cell_type": "code",
   "execution_count": null,
   "id": "af7755da-cdc7-4f08-9d27-82e9db191a41",
   "metadata": {},
   "outputs": [],
   "source": [
    "print(df.shape)"
   ]
  },
  {
   "cell_type": "markdown",
   "id": "a7ac9348-6c4b-4454-b578-d008a88cdce0",
   "metadata": {},
   "source": [
    "| Team Member | Operating System | RAM | Processor | Is SSD | Time taken |\n",
    "|:-----------:|:----------------:|:---:|:---------:|:------:|:----------:|\n",
    "| Nico        | Mac              |32gb | Intel i9  |  Yes   |  7min 11 sec          |\n",
    "| Kristin    |  Mac                | 8gb    |  Intel i5         |   Yes     |   9min 8 sec         |\n",
    "| Jennifer    | Mac             | 8GB  | Intel i5       |   Yes     |     9min 10s     |\n",
    "| Morgan    |                  |     |           |        |            |"
   ]
  },
  {
   "cell_type": "markdown",
   "id": "0d906838-22d5-4a8b-ae98-2a088458b10a",
   "metadata": {},
   "source": [
    "*Summary of observations of runtimes*\n",
    "\n",
    "TO ADD AT END"
   ]
  },
  {
   "cell_type": "markdown",
   "id": "6482d400-8aa1-4d0e-846c-d89e0591c83b",
   "metadata": {
    "tags": []
   },
   "source": [
    "# 5. Load the combined CSV and perform EDA"
   ]
  },
  {
   "cell_type": "markdown",
   "id": "a9fb2cd6-0521-46cb-a6c0-b22a15414937",
   "metadata": {},
   "source": [
    "Firstly, we'll check to see if we can load the entire dataset."
   ]
  },
  {
   "cell_type": "code",
   "execution_count": 2,
   "id": "df9135d1-66ed-4e42-94dc-00b18d1fdaf5",
   "metadata": {},
   "outputs": [
    {
     "name": "stdout",
     "output_type": "stream",
     "text": [
      "<class 'pandas.core.frame.DataFrame'>\n",
      "RangeIndex: 62467843 entries, 0 to 62467842\n",
      "Data columns (total 7 columns):\n",
      " #   Column         Dtype  \n",
      "---  ------         -----  \n",
      " 0   time           object \n",
      " 1   lat_min        float64\n",
      " 2   lat_max        float64\n",
      " 3   lon_min        float64\n",
      " 4   lon_max        float64\n",
      " 5   rain (mm/day)  float64\n",
      " 6   model          object \n",
      "dtypes: float64(5), object(2)\n",
      "memory usage: 3.3+ GB\n",
      "CPU times: user 1min 11s, sys: 25.8 s, total: 1min 37s\n",
      "Wall time: 1min 57s\n"
     ]
    }
   ],
   "source": [
    "%%time\n",
    "df = pd.read_csv(\"figsharerain/data/combined_data.csv\")\n",
    "df.info()"
   ]
  },
  {
   "cell_type": "markdown",
   "id": "ee8528ed-f277-4895-9a0f-a9f140a3fb8f",
   "metadata": {},
   "source": [
    "| Team Member | Operating System | RAM | Processor | Is SSD | Time taken |\n",
    "|:-----------:|:----------------:|:---:|:---------:|:------:|:----------:|\n",
    "| Nico        | Mac              |32gb | Intel i9  |  Yes   |            |\n",
    "| Kristin    |  Mac                | 8gb    |  Intel i5         |   Yes     |            |\n",
    "| Jennifer    | Mac             | 8GB  | Intel i5       |   Yes     |     1min 57s     |\n",
    "| Morgan    |                  |     |           |        |            |"
   ]
  },
  {
   "cell_type": "markdown",
   "id": "22197dd7-6c24-4a76-a842-840653ddc193",
   "metadata": {},
   "source": [
    "We were able to load the entire dataset, although this was fairly slow.\n",
    "\n",
    "One approach to make the data more manageable is to reduce the memory requirement by reducing the precision of the numerical columns from float64 to float32."
   ]
  },
  {
   "cell_type": "code",
   "execution_count": 3,
   "id": "ff8df1f5-3629-43d7-b500-3fb985615187",
   "metadata": {},
   "outputs": [
    {
     "name": "stdout",
     "output_type": "stream",
     "text": [
      "<class 'pandas.core.frame.DataFrame'>\n",
      "RangeIndex: 62467843 entries, 0 to 62467842\n",
      "Data columns (total 7 columns):\n",
      " #   Column         Dtype  \n",
      "---  ------         -----  \n",
      " 0   time           object \n",
      " 1   lat_min        float32\n",
      " 2   lat_max        float32\n",
      " 3   lon_min        float32\n",
      " 4   lon_max        float32\n",
      " 5   rain (mm/day)  float32\n",
      " 6   model          object \n",
      "dtypes: float32(5), object(2)\n",
      "memory usage: 2.1+ GB\n",
      "CPU times: user 1min 8s, sys: 18.1 s, total: 1min 26s\n",
      "Wall time: 1min 34s\n"
     ]
    }
   ],
   "source": [
    "%%time\n",
    "df_float32 = pd.read_csv(\"figsharerain/data/combined_data.csv\", dtype={'lat_min': 'float32', 'lat_max': 'float32', 'lon_min': 'float32', 'lon_max': 'float32', 'rain (mm/day)': 'float32'})\n",
    "df_float32.info()"
   ]
  },
  {
   "cell_type": "markdown",
   "id": "4d9a9d5a-dbbd-4e7a-97f4-ceabeba21bc7",
   "metadata": {},
   "source": [
    "| Team Member | Operating System | RAM | Processor | Is SSD | Time taken |\n",
    "|:-----------:|:----------------:|:---:|:---------:|:------:|:----------:|\n",
    "| Nico        | Mac              |32gb | Intel i9  |  Yes   |            |\n",
    "| Kristin    |  Mac                | 8gb    |  Intel i5         |   Yes     |            |\n",
    "| Jennifer    | Mac             | 8GB  | Intel i5       |   Yes     |     1min 34s     |\n",
    "| Morgan    |                  |     |           |        |            |"
   ]
  },
  {
   "cell_type": "markdown",
   "id": "65642dbb-083d-4a12-8b9d-6fdf5e900b1e",
   "metadata": {},
   "source": [
    "Changing the data type reduced the size of the data from 3.3+ GB to 2.1+ GB, but had a small impact on the data loading time.\n",
    "\n",
    "Next, let's check the number of observations per model. We can try loading only the \"model\" column to further reduce memory usage."
   ]
  },
  {
   "cell_type": "code",
   "execution_count": 4,
   "id": "6609b27f-3888-433d-9a80-ccaa815ce24a",
   "metadata": {},
   "outputs": [
    {
     "name": "stdout",
     "output_type": "stream",
     "text": [
      "model           \n",
      "MPI-ESM1-2-HR       5154240\n",
      "TaiESM1             3541230\n",
      "NorESM2-MM          3541230\n",
      "CMCC-CM2-HR4        3541230\n",
      "CMCC-CM2-SR5        3541230\n",
      "CMCC-ESM2           3541230\n",
      "SAM0-UNICON         3541153\n",
      "FGOALS-f3-L         3219300\n",
      "GFDL-CM4            3219300\n",
      "GFDL-ESM4           3219300\n",
      "EC-Earth3-Veg-LR    3037320\n",
      "MRI-ESM2-0          3037320\n",
      "BCC-CSM2-MR         3035340\n",
      "MIROC6              2070900\n",
      "ACCESS-CM2          1932840\n",
      "ACCESS-ESM1-5       1610700\n",
      "INM-CM5-0           1609650\n",
      "INM-CM4-8           1609650\n",
      "KIOST-ESM           1287720\n",
      "FGOALS-g3           1287720\n",
      "MPI-ESM1-2-LR        966420\n",
      "NESM3                966420\n",
      "AWI-ESM-1-1-LR       966420\n",
      "MPI-ESM-1-2-HAM      966420\n",
      "NorESM2-LM           919800\n",
      "BCC-ESM1             551880\n",
      "CanESM5              551880\n",
      "dtype: int64\n",
      "CPU times: user 36.2 s, sys: 4.78 s, total: 41 s\n",
      "Wall time: 42.5 s\n"
     ]
    }
   ],
   "source": [
    "%%time\n",
    "use_cols = ['model']\n",
    "model = pd.read_csv(\"figsharerain/data/combined_data.csv\",usecols=use_cols)\n",
    "print(model.value_counts())"
   ]
  },
  {
   "cell_type": "markdown",
   "id": "e1c7f2d1-d8cb-4ea7-a0be-afd0b0724b57",
   "metadata": {},
   "source": [
    "| Team Member | Operating System | RAM | Processor | Is SSD | Time taken |\n",
    "|:-----------:|:----------------:|:---:|:---------:|:------:|:----------:|\n",
    "| Nico        | Mac              |32gb | Intel i9  |  Yes   |            |\n",
    "| Kristin    |  Mac                | 8gb    |  Intel i5         |   Yes     |            |\n",
    "| Jennifer    | Mac             | 8GB  | Intel i5       |   Yes     |     43s     |\n",
    "| Morgan    |                  |     |           |        |            |"
   ]
  },
  {
   "cell_type": "markdown",
   "id": "ca1ad09d-6f02-45f8-b6e2-6911b4f2a324",
   "metadata": {},
   "source": [
    "Loading and summarizing a single column with `value_counts` was a fairly quick operation and took less than half the time compared to loading in the entire dataframe, although this might not be an efficient approach for performing EDA on all columns in the data.\n",
    "\n",
    "We'll summarize all the numeric columns from the original combined dataframe below:"
   ]
  },
  {
   "cell_type": "code",
   "execution_count": 5,
   "id": "eb54247c-e070-4e7f-a985-63f0550bb82d",
   "metadata": {},
   "outputs": [
    {
     "name": "stdout",
     "output_type": "stream",
     "text": [
      "CPU times: user 14.6 s, sys: 9.67 s, total: 24.3 s\n",
      "Wall time: 28.9 s\n"
     ]
    },
    {
     "data": {
      "text/html": [
       "<div>\n",
       "<style scoped>\n",
       "    .dataframe tbody tr th:only-of-type {\n",
       "        vertical-align: middle;\n",
       "    }\n",
       "\n",
       "    .dataframe tbody tr th {\n",
       "        vertical-align: top;\n",
       "    }\n",
       "\n",
       "    .dataframe thead th {\n",
       "        text-align: right;\n",
       "    }\n",
       "</style>\n",
       "<table border=\"1\" class=\"dataframe\">\n",
       "  <thead>\n",
       "    <tr style=\"text-align: right;\">\n",
       "      <th></th>\n",
       "      <th>lat_min</th>\n",
       "      <th>lat_max</th>\n",
       "      <th>lon_min</th>\n",
       "      <th>lon_max</th>\n",
       "      <th>rain (mm/day)</th>\n",
       "    </tr>\n",
       "  </thead>\n",
       "  <tbody>\n",
       "    <tr>\n",
       "      <th>count</th>\n",
       "      <td>5.924854e+07</td>\n",
       "      <td>6.246784e+07</td>\n",
       "      <td>5.924854e+07</td>\n",
       "      <td>6.246784e+07</td>\n",
       "      <td>5.924854e+07</td>\n",
       "    </tr>\n",
       "    <tr>\n",
       "      <th>mean</th>\n",
       "      <td>-3.310482e+01</td>\n",
       "      <td>-3.197757e+01</td>\n",
       "      <td>1.469059e+02</td>\n",
       "      <td>1.482150e+02</td>\n",
       "      <td>1.901170e+00</td>\n",
       "    </tr>\n",
       "    <tr>\n",
       "      <th>std</th>\n",
       "      <td>1.963549e+00</td>\n",
       "      <td>1.992067e+00</td>\n",
       "      <td>3.793784e+00</td>\n",
       "      <td>3.809994e+00</td>\n",
       "      <td>5.585735e+00</td>\n",
       "    </tr>\n",
       "    <tr>\n",
       "      <th>min</th>\n",
       "      <td>-3.646739e+01</td>\n",
       "      <td>-3.600000e+01</td>\n",
       "      <td>1.406250e+02</td>\n",
       "      <td>1.412500e+02</td>\n",
       "      <td>-3.807373e-12</td>\n",
       "    </tr>\n",
       "    <tr>\n",
       "      <th>25%</th>\n",
       "      <td>-3.486911e+01</td>\n",
       "      <td>-3.366221e+01</td>\n",
       "      <td>1.434375e+02</td>\n",
       "      <td>1.450000e+02</td>\n",
       "      <td>3.838413e-06</td>\n",
       "    </tr>\n",
       "    <tr>\n",
       "      <th>50%</th>\n",
       "      <td>-3.300000e+01</td>\n",
       "      <td>-3.204188e+01</td>\n",
       "      <td>1.468750e+02</td>\n",
       "      <td>1.481250e+02</td>\n",
       "      <td>6.154947e-02</td>\n",
       "    </tr>\n",
       "    <tr>\n",
       "      <th>75%</th>\n",
       "      <td>-3.140170e+01</td>\n",
       "      <td>-3.015707e+01</td>\n",
       "      <td>1.501875e+02</td>\n",
       "      <td>1.513125e+02</td>\n",
       "      <td>1.020918e+00</td>\n",
       "    </tr>\n",
       "    <tr>\n",
       "      <th>max</th>\n",
       "      <td>-2.990000e+01</td>\n",
       "      <td>-2.790606e+01</td>\n",
       "      <td>1.537500e+02</td>\n",
       "      <td>1.556250e+02</td>\n",
       "      <td>4.329395e+02</td>\n",
       "    </tr>\n",
       "  </tbody>\n",
       "</table>\n",
       "</div>"
      ],
      "text/plain": [
       "            lat_min       lat_max       lon_min       lon_max  rain (mm/day)\n",
       "count  5.924854e+07  6.246784e+07  5.924854e+07  6.246784e+07   5.924854e+07\n",
       "mean  -3.310482e+01 -3.197757e+01  1.469059e+02  1.482150e+02   1.901170e+00\n",
       "std    1.963549e+00  1.992067e+00  3.793784e+00  3.809994e+00   5.585735e+00\n",
       "min   -3.646739e+01 -3.600000e+01  1.406250e+02  1.412500e+02  -3.807373e-12\n",
       "25%   -3.486911e+01 -3.366221e+01  1.434375e+02  1.450000e+02   3.838413e-06\n",
       "50%   -3.300000e+01 -3.204188e+01  1.468750e+02  1.481250e+02   6.154947e-02\n",
       "75%   -3.140170e+01 -3.015707e+01  1.501875e+02  1.513125e+02   1.020918e+00\n",
       "max   -2.990000e+01 -2.790606e+01  1.537500e+02  1.556250e+02   4.329395e+02"
      ]
     },
     "execution_count": 5,
     "metadata": {},
     "output_type": "execute_result"
    }
   ],
   "source": [
    "%%time\n",
    "df.describe()"
   ]
  },
  {
   "cell_type": "markdown",
   "id": "c4cf375e-501a-49b0-b70d-46861a561760",
   "metadata": {},
   "source": [
    "| Team Member | Operating System | RAM | Processor | Is SSD | Time taken |\n",
    "|:-----------:|:----------------:|:---:|:---------:|:------:|:----------:|\n",
    "| Nico        | Mac              |32gb | Intel i9  |  Yes   |            |\n",
    "| Kristin    |  Mac                | 8gb    |  Intel i5         |   Yes     |            |\n",
    "| Jennifer    | Mac             | 8GB  | Intel i5       |   Yes     |     29s     |\n",
    "| Morgan    |                  |     |           |        |            |"
   ]
  },
  {
   "cell_type": "markdown",
   "id": "cfd8ad88-6aa7-42c6-83ed-f272ce7a27f4",
   "metadata": {},
   "source": [
    "*Summary of observations of runtimes*\n",
    "\n"
   ]
  },
  {
   "cell_type": "markdown",
   "id": "18902408-1ebe-4119-abe7-735aa0c2d752",
   "metadata": {},
   "source": [
    "# 6. Perform EDA in R"
   ]
  },
  {
   "cell_type": "code",
   "execution_count": null,
   "id": "1080a9c8-cc0f-4836-be36-17c49ce292da",
   "metadata": {},
   "outputs": [],
   "source": []
  }
 ],
 "metadata": {
  "kernelspec": {
   "display_name": "Python [conda env:525_2022]",
   "language": "python",
   "name": "conda-env-525_2022-py"
  },
  "language_info": {
   "codemirror_mode": {
    "name": "ipython",
    "version": 3
   },
   "file_extension": ".py",
   "mimetype": "text/x-python",
   "name": "python",
   "nbconvert_exporter": "python",
   "pygments_lexer": "ipython3",
   "version": "3.8.6"
  }
 },
 "nbformat": 4,
 "nbformat_minor": 5
}
