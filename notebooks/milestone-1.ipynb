{
 "cells": [
  {
   "cell_type": "markdown",
   "id": "7b139ae1-4be4-42fc-9f86-9ddd1f3aa75f",
   "metadata": {},
   "source": [
    "# Milestone 1 Notebook"
   ]
  },
  {
   "cell_type": "markdown",
   "id": "d8871a39-fa67-4e97-920d-949cfb505460",
   "metadata": {},
   "source": [
    "*Note: Steps 1 (team work contract) and 2 (creating repository) for this milestone are not included in this notebook.*"
   ]
  },
  {
   "cell_type": "markdown",
   "id": "f096a6fc-77f6-427a-978d-48d8da4efba2",
   "metadata": {},
   "source": [
    "## Imports"
   ]
  },
  {
   "cell_type": "code",
   "execution_count": 1,
   "id": "1fd4d26d-1b3b-4da3-9067-13a23e1ab6dc",
   "metadata": {},
   "outputs": [],
   "source": [
    "import re\n",
    "import os\n",
    "import glob\n",
    "import zipfile\n",
    "import requests\n",
    "from urllib.request import urlretrieve\n",
    "import json\n",
    "import pandas as pd"
   ]
  },
  {
   "cell_type": "markdown",
   "id": "c908e1d9-c9fc-4ca6-94d9-52eb5938dcc9",
   "metadata": {},
   "source": [
    "## 3. Downloading the data"
   ]
  },
  {
   "cell_type": "markdown",
   "id": "bcab16ae-978a-4c07-bb20-625df5f52c5a",
   "metadata": {},
   "source": [
    "### Download using figshare's API"
   ]
  },
  {
   "cell_type": "code",
   "execution_count": 2,
   "id": "234f616b-249c-4d5b-ac58-0b0da7000842",
   "metadata": {},
   "outputs": [
    {
     "data": {
      "text/plain": [
       "[{'id': 26579150,\n",
       "  'name': 'daily_rainfall_2014.png',\n",
       "  'size': 58863,\n",
       "  'is_link_only': False,\n",
       "  'download_url': 'https://ndownloader.figshare.com/files/26579150',\n",
       "  'supplied_md5': 'fd32a2ffde300a31f8d63b1825d47e5e',\n",
       "  'computed_md5': 'fd32a2ffde300a31f8d63b1825d47e5e'},\n",
       " {'id': 26579171,\n",
       "  'name': 'environment.yml',\n",
       "  'size': 192,\n",
       "  'is_link_only': False,\n",
       "  'download_url': 'https://ndownloader.figshare.com/files/26579171',\n",
       "  'supplied_md5': '060b2020017eed93a1ee7dd8c65b2f34',\n",
       "  'computed_md5': '060b2020017eed93a1ee7dd8c65b2f34'},\n",
       " {'id': 26586554,\n",
       "  'name': 'README.md',\n",
       "  'size': 5422,\n",
       "  'is_link_only': False,\n",
       "  'download_url': 'https://ndownloader.figshare.com/files/26586554',\n",
       "  'supplied_md5': '61858c6cc0e6a6d6663a7e4c75bbd88c',\n",
       "  'computed_md5': '61858c6cc0e6a6d6663a7e4c75bbd88c'},\n",
       " {'id': 26766812,\n",
       "  'name': 'data.zip',\n",
       "  'size': 814041183,\n",
       "  'is_link_only': False,\n",
       "  'download_url': 'https://ndownloader.figshare.com/files/26766812',\n",
       "  'supplied_md5': 'b517383f76e77bd03755a63a8ff83ee9',\n",
       "  'computed_md5': 'b517383f76e77bd03755a63a8ff83ee9'},\n",
       " {'id': 26766815,\n",
       "  'name': 'get_data.py',\n",
       "  'size': 4113,\n",
       "  'is_link_only': False,\n",
       "  'download_url': 'https://ndownloader.figshare.com/files/26766815',\n",
       "  'supplied_md5': '7829028495fd9dec9680ea013474afa6',\n",
       "  'computed_md5': '7829028495fd9dec9680ea013474afa6'}]"
      ]
     },
     "execution_count": 2,
     "metadata": {},
     "output_type": "execute_result"
    }
   ],
   "source": [
    "# figshare article metadata\n",
    "article_id = 14096681  \n",
    "url = f\"https://api.figshare.com/v2/articles/{article_id}\"\n",
    "headers = {\"Content-Type\": \"application/json\"}\n",
    "\n",
    "# directories for output\n",
    "output_directory = \"figsharerain/\"\n",
    "output_directory_files = \"figsharerain/data/\"\n",
    "\n",
    "# get the files from figshare\n",
    "response = requests.request(\"GET\", url, headers=headers)\n",
    "data = json.loads(response.text)\n",
    "files = data[\"files\"]\n",
    "\n",
    "files"
   ]
  },
  {
   "cell_type": "code",
   "execution_count": 3,
   "id": "bc4ed9cf-5626-4c11-ba19-3eb0e48217e0",
   "metadata": {},
   "outputs": [
    {
     "name": "stdout",
     "output_type": "stream",
     "text": [
      "CPU times: user 3.42 s, sys: 7.2 s, total: 10.6 s\n",
      "Wall time: 20min 6s\n"
     ]
    }
   ],
   "source": [
    "%%time\n",
    "\n",
    "files_to_dl = ['data.zip']\n",
    "\n",
    "# download files, this takes some time\n",
    "for file in files:\n",
    "    if file[\"name\"] in files_to_dl:\n",
    "        os.makedirs(output_directory, exist_ok=True)\n",
    "        urlretrieve(file[\"download_url\"], output_directory + file[\"name\"])"
   ]
  },
  {
   "cell_type": "markdown",
   "id": "0401436e-b54d-47ba-93a4-ac0f6653cb34",
   "metadata": {},
   "source": [
    "### Extract and view files"
   ]
  },
  {
   "cell_type": "code",
   "execution_count": 4,
   "id": "b5925d1f-7fab-414e-8df0-5ce2a9274657",
   "metadata": {},
   "outputs": [
    {
     "name": "stdout",
     "output_type": "stream",
     "text": [
      "CPU times: user 16.5 s, sys: 2.88 s, total: 19.4 s\n",
      "Wall time: 20 s\n"
     ]
    }
   ],
   "source": [
    "%%time\n",
    "\n",
    "# extract files\n",
    "os.makedirs(output_directory_files, exist_ok=True)\n",
    "with zipfile.ZipFile(os.path.join(output_directory, \"data.zip\"), 'r') as f:\n",
    "    f.extractall(output_directory_files)"
   ]
  },
  {
   "cell_type": "markdown",
   "id": "d257e914-d039-4390-9bfd-ab71353c9652",
   "metadata": {},
   "source": [
    "# 4. Combine data CSVs with Pandas"
   ]
  },
  {
   "cell_type": "markdown",
   "id": "d45e9ba6-f989-4695-bdb9-561f042436a4",
   "metadata": {},
   "source": [
    "### Combine CSVs and add \"model\" column"
   ]
  },
  {
   "cell_type": "code",
   "execution_count": 5,
   "id": "06403eba-7d95-499d-a8e2-47e3033bc0e0",
   "metadata": {},
   "outputs": [
    {
     "name": "stdout",
     "output_type": "stream",
     "text": [
      "CPU times: user 6min 43s, sys: 22.9 s, total: 7min 6s\n",
      "Wall time: 7min 11s\n"
     ]
    }
   ],
   "source": [
    "%%time\n",
    "# files to combine\n",
    "files = glob.glob('figsharerain/data/*.csv')\n",
    "files.remove('figsharerain/data/observed_daily_rainfall_SYD.csv')\n",
    "\n",
    "# combine with pandas\n",
    "df = pd.concat(\n",
    "    (\n",
    "        pd.read_csv(file, index_col=0)\n",
    "        .assign(model=re.findall(r'^[^_]*', file)[0]) for file in files) # model column\n",
    "    )\n",
    "\n",
    "df[\"model\"] = df[\"model\"].apply(lambda x: x.split(\"/\")[-1])\n",
    "\n",
    "# save combined file\n",
    "df.to_csv(\"figsharerain/data/combined_data.csv\")"
   ]
  },
  {
   "cell_type": "code",
   "execution_count": 6,
   "id": "7e7ea4ee-46f4-4512-b208-840abe02dc52",
   "metadata": {},
   "outputs": [
    {
     "data": {
      "text/html": [
       "<div>\n",
       "<style scoped>\n",
       "    .dataframe tbody tr th:only-of-type {\n",
       "        vertical-align: middle;\n",
       "    }\n",
       "\n",
       "    .dataframe tbody tr th {\n",
       "        vertical-align: top;\n",
       "    }\n",
       "\n",
       "    .dataframe thead th {\n",
       "        text-align: right;\n",
       "    }\n",
       "</style>\n",
       "<table border=\"1\" class=\"dataframe\">\n",
       "  <thead>\n",
       "    <tr style=\"text-align: right;\">\n",
       "      <th></th>\n",
       "      <th>lat_min</th>\n",
       "      <th>lat_max</th>\n",
       "      <th>lon_min</th>\n",
       "      <th>lon_max</th>\n",
       "      <th>rain (mm/day)</th>\n",
       "      <th>model</th>\n",
       "    </tr>\n",
       "    <tr>\n",
       "      <th>time</th>\n",
       "      <th></th>\n",
       "      <th></th>\n",
       "      <th></th>\n",
       "      <th></th>\n",
       "      <th></th>\n",
       "      <th></th>\n",
       "    </tr>\n",
       "  </thead>\n",
       "  <tbody>\n",
       "    <tr>\n",
       "      <th>1889-01-01 12:00:00</th>\n",
       "      <td>-35.439867</td>\n",
       "      <td>-33.574619</td>\n",
       "      <td>141.5625</td>\n",
       "      <td>143.4375</td>\n",
       "      <td>4.244226e-13</td>\n",
       "      <td>MPI-ESM-1-2-HAM</td>\n",
       "    </tr>\n",
       "    <tr>\n",
       "      <th>1889-01-02 12:00:00</th>\n",
       "      <td>-35.439867</td>\n",
       "      <td>-33.574619</td>\n",
       "      <td>141.5625</td>\n",
       "      <td>143.4375</td>\n",
       "      <td>4.217326e-13</td>\n",
       "      <td>MPI-ESM-1-2-HAM</td>\n",
       "    </tr>\n",
       "    <tr>\n",
       "      <th>1889-01-03 12:00:00</th>\n",
       "      <td>-35.439867</td>\n",
       "      <td>-33.574619</td>\n",
       "      <td>141.5625</td>\n",
       "      <td>143.4375</td>\n",
       "      <td>4.498125e-13</td>\n",
       "      <td>MPI-ESM-1-2-HAM</td>\n",
       "    </tr>\n",
       "    <tr>\n",
       "      <th>1889-01-04 12:00:00</th>\n",
       "      <td>-35.439867</td>\n",
       "      <td>-33.574619</td>\n",
       "      <td>141.5625</td>\n",
       "      <td>143.4375</td>\n",
       "      <td>4.251282e-13</td>\n",
       "      <td>MPI-ESM-1-2-HAM</td>\n",
       "    </tr>\n",
       "    <tr>\n",
       "      <th>1889-01-05 12:00:00</th>\n",
       "      <td>-35.439867</td>\n",
       "      <td>-33.574619</td>\n",
       "      <td>141.5625</td>\n",
       "      <td>143.4375</td>\n",
       "      <td>4.270161e-13</td>\n",
       "      <td>MPI-ESM-1-2-HAM</td>\n",
       "    </tr>\n",
       "  </tbody>\n",
       "</table>\n",
       "</div>"
      ],
      "text/plain": [
       "                       lat_min    lat_max   lon_min   lon_max  rain (mm/day)  \\\n",
       "time                                                                           \n",
       "1889-01-01 12:00:00 -35.439867 -33.574619  141.5625  143.4375   4.244226e-13   \n",
       "1889-01-02 12:00:00 -35.439867 -33.574619  141.5625  143.4375   4.217326e-13   \n",
       "1889-01-03 12:00:00 -35.439867 -33.574619  141.5625  143.4375   4.498125e-13   \n",
       "1889-01-04 12:00:00 -35.439867 -33.574619  141.5625  143.4375   4.251282e-13   \n",
       "1889-01-05 12:00:00 -35.439867 -33.574619  141.5625  143.4375   4.270161e-13   \n",
       "\n",
       "                               model  \n",
       "time                                  \n",
       "1889-01-01 12:00:00  MPI-ESM-1-2-HAM  \n",
       "1889-01-02 12:00:00  MPI-ESM-1-2-HAM  \n",
       "1889-01-03 12:00:00  MPI-ESM-1-2-HAM  \n",
       "1889-01-04 12:00:00  MPI-ESM-1-2-HAM  \n",
       "1889-01-05 12:00:00  MPI-ESM-1-2-HAM  "
      ]
     },
     "execution_count": 6,
     "metadata": {},
     "output_type": "execute_result"
    }
   ],
   "source": [
    "df.head()"
   ]
  },
  {
   "cell_type": "code",
   "execution_count": 7,
   "id": "af7755da-cdc7-4f08-9d27-82e9db191a41",
   "metadata": {},
   "outputs": [
    {
     "name": "stdout",
     "output_type": "stream",
     "text": [
      "(62467843, 6)\n"
     ]
    }
   ],
   "source": [
    "print(df.shape)"
   ]
  },
  {
   "cell_type": "markdown",
   "id": "a7ac9348-6c4b-4454-b578-d008a88cdce0",
   "metadata": {},
   "source": [
    "| Team Member | Operating System | RAM | Processor | Is SSD | Time taken |\n",
    "|:-----------:|:----------------:|:---:|:---------:|:------:|:----------:|\n",
    "| Nico        | Mac              |32gb | Intel i9  |  Yes   |  7min 11 sec          |\n",
    "| Kristin    |  Mac                | 8gb    |  Intel i5         |   Yes     |   9min 8 sec         |\n",
    "| Jennifer    |                  |     |           |        |            |\n",
    "| Morgan    |                  |     |           |        |            |"
   ]
  },
  {
   "cell_type": "markdown",
   "id": "0d906838-22d5-4a8b-ae98-2a088458b10a",
   "metadata": {},
   "source": [
    "*Summary of observations of runtimes*\n",
    "\n",
    "TO ADD AT END"
   ]
  },
  {
   "cell_type": "markdown",
   "id": "6482d400-8aa1-4d0e-846c-d89e0591c83b",
   "metadata": {
    "tags": []
   },
   "source": [
    "# 5. Load the combined CSV and perform EDA"
   ]
  },
  {
   "cell_type": "code",
   "execution_count": null,
   "id": "df9135d1-66ed-4e42-94dc-00b18d1fdaf5",
   "metadata": {},
   "outputs": [],
   "source": []
  },
  {
   "cell_type": "markdown",
   "id": "e1c7f2d1-d8cb-4ea7-a0be-afd0b0724b57",
   "metadata": {},
   "source": [
    "| Team Member | Operating System | RAM | Processor | Is SSD | Time taken |\n",
    "|:-----------:|:----------------:|:---:|:---------:|:------:|:----------:|\n",
    "| Nico        | Mac              |32gb | Intel i9  |  Yes   |            |\n",
    "| Kristin    |  Mac                | 8gb    |   Intel i5        |    Yes    |            |\n",
    "| Jennifer    |                  |     |           |        |            |\n",
    "| Morgan    |                  |     |           |        |            |"
   ]
  },
  {
   "cell_type": "markdown",
   "id": "cfd8ad88-6aa7-42c6-83ed-f272ce7a27f4",
   "metadata": {},
   "source": [
    "*Summary of observations of runtimes*\n",
    "\n",
    "TO ADD AT END"
   ]
  },
  {
   "cell_type": "markdown",
   "id": "18902408-1ebe-4119-abe7-735aa0c2d752",
   "metadata": {},
   "source": [
    "# 6. Perform EDA in R"
   ]
  },
  {
   "cell_type": "code",
   "execution_count": null,
   "id": "1080a9c8-cc0f-4836-be36-17c49ce292da",
   "metadata": {},
   "outputs": [],
   "source": []
  }
 ],
 "metadata": {
  "kernelspec": {
   "display_name": "Python [conda env:525_2022]",
   "language": "python",
   "name": "conda-env-525_2022-py"
  },
  "language_info": {
   "codemirror_mode": {
    "name": "ipython",
    "version": 3
   },
   "file_extension": ".py",
   "mimetype": "text/x-python",
   "name": "python",
   "nbconvert_exporter": "python",
   "pygments_lexer": "ipython3",
   "version": "3.8.6"
  }
 },
 "nbformat": 4,
 "nbformat_minor": 5
}
